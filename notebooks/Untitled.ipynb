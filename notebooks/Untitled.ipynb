{
 "cells": [
  {
   "cell_type": "code",
   "execution_count": 101,
   "id": "54dda38d-38b1-46a6-9cbe-d54d59029972",
   "metadata": {},
   "outputs": [],
   "source": [
    "import matplotlib.pyplot as plt\n",
    "\n",
    "import numpy as np\n",
    "\n",
    "from tensorflow import keras\n",
    "from tensorflow.keras import layers\n",
    "\n",
    "from tensorflow.keras import datasets\n",
    "\n",
    "from ulf.technique.autoencoder import Autoencoder\n",
    "\n"
   ]
  },
  {
   "cell_type": "code",
   "execution_count": 81,
   "id": "bff529b4-371e-4c52-a8b3-409e620f00c9",
   "metadata": {},
   "outputs": [],
   "source": [
    "encoder = keras.Sequential()\n",
    "encoder.add(layers.InputLayer(784))\n",
    "for units in [1000, 500, 250]:\n",
    "    encoder.add(layers.Dense(units, activation=\"relu\"))\n",
    "encoder.add(layers.Dense(8, activation=\"linear\"))\n",
    "\n",
    "decoder = keras.Sequential()\n",
    "decoder.add(layers.InputLayer(8))\n",
    "for units in [250, 500, 1000]:\n",
    "    decoder.add(layers.Dense(units, activation=\"relu\"))\n",
    "decoder.add(layers.Dense(784, activation=\"sigmoid\"))\n",
    "\n",
    "\n",
    "#model.build()\n",
    "#model.summary()\n",
    "autoencoder = Autoencoder(encoder, decoder)"
   ]
  },
  {
   "cell_type": "code",
   "execution_count": 36,
   "id": "53872866-8c15-45ac-aec4-ee0fd581716b",
   "metadata": {},
   "outputs": [],
   "source": [
    "(x_train, y_train), (x_test, y_test) = datasets.mnist.load_data()"
   ]
  },
  {
   "cell_type": "code",
   "execution_count": 82,
   "id": "4e276a35-2232-47c9-8f91-69232cddc8ec",
   "metadata": {},
   "outputs": [],
   "source": [
    "autoencoder.compile()"
   ]
  },
  {
   "cell_type": "code",
   "execution_count": 96,
   "id": "fbf1b047-1785-4b98-8e29-d9925dad13fa",
   "metadata": {},
   "outputs": [
    {
     "name": "stdout",
     "output_type": "stream",
     "text": [
      "Epoch 1/16\n",
      "1875/1875 [==============================] - 41s 22ms/step - loss: 0.0153 - val_loss: 0.0157\n",
      "Epoch 2/16\n",
      "1875/1875 [==============================] - 41s 22ms/step - loss: 0.0148 - val_loss: 0.0158\n",
      "Epoch 3/16\n",
      "1875/1875 [==============================] - 42s 22ms/step - loss: 0.0144 - val_loss: 0.0151\n",
      "Epoch 4/16\n",
      "1875/1875 [==============================] - 42s 22ms/step - loss: 0.0141 - val_loss: 0.0149\n",
      "Epoch 5/16\n",
      "1875/1875 [==============================] - 42s 22ms/step - loss: 0.0139 - val_loss: 0.0148\n",
      "Epoch 6/16\n",
      "1875/1875 [==============================] - 42s 23ms/step - loss: 0.0136 - val_loss: 0.0149\n",
      "Epoch 7/16\n",
      "1875/1875 [==============================] - 42s 23ms/step - loss: 0.0134 - val_loss: 0.0146\n",
      "Epoch 8/16\n",
      "1875/1875 [==============================] - 42s 22ms/step - loss: 0.0133 - val_loss: 0.0147\n",
      "Epoch 9/16\n",
      "1875/1875 [==============================] - 41s 22ms/step - loss: 0.0131 - val_loss: 0.0145\n",
      "Epoch 10/16\n",
      "1875/1875 [==============================] - 41s 22ms/step - loss: 0.0130 - val_loss: 0.0147\n",
      "Epoch 11/16\n",
      "1875/1875 [==============================] - 41s 22ms/step - loss: 0.0129 - val_loss: 0.0145\n",
      "Epoch 12/16\n",
      "1875/1875 [==============================] - 41s 22ms/step - loss: 0.0127 - val_loss: 0.0145\n",
      "Epoch 13/16\n",
      "1875/1875 [==============================] - 41s 22ms/step - loss: 0.0126 - val_loss: 0.0145\n",
      "Epoch 14/16\n",
      "1875/1875 [==============================] - 40s 21ms/step - loss: 0.0125 - val_loss: 0.0146\n",
      "Epoch 15/16\n",
      "1875/1875 [==============================] - 41s 22ms/step - loss: 0.0125 - val_loss: 0.0145\n",
      "Epoch 16/16\n",
      "1875/1875 [==============================] - 40s 22ms/step - loss: 0.0124 - val_loss: 0.0147\n"
     ]
    },
    {
     "data": {
      "text/plain": [
       "<tensorflow.python.keras.callbacks.History at 0x7f5a3daab070>"
      ]
     },
     "execution_count": 96,
     "metadata": {},
     "output_type": "execute_result"
    }
   ],
   "source": [
    "autoencoder.fit(x_train.reshape(x_train.shape[0], 784)/255, x_test.reshape(x_test.shape[0], 784)/255, epochs=16)"
   ]
  },
  {
   "cell_type": "code",
   "execution_count": 118,
   "id": "ca1c51d1-8412-4fdf-8ab0-5578670c9ff8",
   "metadata": {},
   "outputs": [],
   "source": [
    "ground_thru = x_test[:16].reshape(16, 784)/255\n",
    "pred = autoencoder.model.predict(ground_thru/2+x_test[1:17].reshape(16, 784)/500)"
   ]
  },
  {
   "cell_type": "code",
   "execution_count": 106,
   "id": "7c14fa1c-7a79-4a1a-bc2c-c41c9b47c3b5",
   "metadata": {},
   "outputs": [
    {
     "data": {
      "text/plain": [
       "array([[3.5791754e-35, 8.6820365e-35, 4.4072290e-37, ..., 7.2462344e-34,\n",
       "        9.5148994e-34, 5.0274399e-36],\n",
       "       [1.0316797e-24, 1.6142664e-25, 1.6395365e-26, ..., 9.8379419e-24,\n",
       "        7.0308869e-24, 2.0875182e-25],\n",
       "       [1.0049387e-34, 8.0393172e-35, 5.8959267e-37, ..., 2.3735753e-33,\n",
       "        2.1499983e-33, 1.4276461e-35],\n",
       "       ...,\n",
       "       [3.8897375e-29, 6.9939797e-29, 1.2553245e-30, ..., 4.3865683e-28,\n",
       "        6.2629123e-28, 1.0061419e-29],\n",
       "       [3.4126085e-32, 5.3755498e-32, 3.2890392e-34, ..., 4.9088376e-31,\n",
       "        6.3769337e-31, 6.2613676e-33],\n",
       "       [1.4342382e-30, 5.8592638e-31, 1.5165095e-32, ..., 1.9457324e-29,\n",
       "        1.8726208e-29, 2.1827919e-31]], dtype=float32)"
      ]
     },
     "execution_count": 106,
     "metadata": {},
     "output_type": "execute_result"
    }
   ],
   "source": [
    "pred"
   ]
  },
  {
   "cell_type": "code",
   "execution_count": 119,
   "id": "0ea2630c-1adf-42ec-8eff-fb2c1c504164",
   "metadata": {},
   "outputs": [
    {
     "data": {
      "text/plain": [
       "<matplotlib.image.AxesImage at 0x7f5a3d729ca0>"
      ]
     },
     "execution_count": 119,
     "metadata": {},
     "output_type": "execute_result"
    },
    {
     "data": {
      "image/png": "[encoded data removed]",
      "text/plain": [
       "<Figure size 432x288 with 1 Axes>"
      ]
     },
     "metadata": {
      "needs_background": "light"
     },
     "output_type": "display_data"
    },
    {
     "data": {
      "image/png": "[encoded data removed]",
      "text/plain": [
       "<Figure size 432x288 with 1 Axes>"
      ]
     },
     "metadata": {
      "needs_background": "light"
     },
     "output_type": "display_data"
    }
   ],
   "source": [
    "#plt.imshow(pred[0].reshape(28,28))\n",
    "plt.figure()\n",
    "plt.imshow(pred[8].reshape(28,28))\n",
    "plt.figure()\n",
    "plt.imshow(ground_thru[8].reshape(28,28))"
   ]
  },
  {
   "cell_type": "code",
   "execution_count": null,
   "id": "b3ca8c55-f2e6-4e73-908d-9602f7807bff",
   "metadata": {},
   "outputs": [],
   "source": []
  }
 ],
 "metadata": {
  "kernelspec": {
   "display_name": "Python 3",
   "language": "python",
   "name": "python3"
  },
  "language_info": {
   "codemirror_mode": {
    "name": "ipython",
    "version": 3
   },
   "file_extension": ".py",
   "mimetype": "text/x-python",
   "name": "python",
   "nbconvert_exporter": "python",
   "pygments_lexer": "ipython3",
   "version": "3.9.5"
  }
 },
 "nbformat": 4,
 "nbformat_minor": 5
}
